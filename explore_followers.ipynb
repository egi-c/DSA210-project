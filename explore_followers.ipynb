{
 "cells": [
  {
   "cell_type": "code",
   "execution_count": 4,
   "metadata": {},
   "outputs": [
    {
     "name": "stdout",
     "output_type": "stream",
     "text": [
      "alis_v11\n",
      "aysiluahmetova\n",
      "reafetollari\n",
      "marinakoti__\n",
      "alexxarusi\n"
     ]
    }
   ],
   "source": [
    "from bs4 import BeautifulSoup\n",
    "\n",
    "# Load HTML content from a file\n",
    "with open('followers_1.html', 'r', encoding='utf-8') as file:\n",
    "    html_content = file.read()\n",
    "\n",
    "# Parse the HTML content\n",
    "soup = BeautifulSoup(html_content, 'html.parser')\n",
    "\n",
    "# Find all the anchor tags with Instagram URLs\n",
    "usernames = []\n",
    "\n",
    "# Loop through each anchor tag and extract the username\n",
    "for a_tag in soup.find_all('a', href=True):\n",
    "    if 'instagram.com' in a_tag['href']:\n",
    "        username = a_tag.get_text()\n",
    "        usernames.append(username)\n",
    "\n",
    "# Output the list of usernames\n",
    "for username in usernames[:5]:\n",
    "    print(username)\n"
   ]
  },
  {
   "cell_type": "code",
   "execution_count": 5,
   "metadata": {},
   "outputs": [
    {
     "name": "stdout",
     "output_type": "stream",
     "text": [
      "fenix_studio\n",
      "alis_v11\n",
      "lace_need_you\n",
      "etiketgulenyuz\n",
      "zezigkumas\n"
     ]
    }
   ],
   "source": [
    "from bs4 import BeautifulSoup\n",
    "\n",
    "# Load HTML content from a file\n",
    "with open('following.html', 'r', encoding='utf-8') as file:\n",
    "    html_content = file.read()\n",
    "\n",
    "# Parse the HTML content\n",
    "soup = BeautifulSoup(html_content, 'html.parser')\n",
    "\n",
    "# Find all the anchor tags with Instagram URLs\n",
    "usernames_following = []\n",
    "\n",
    "# Loop through each anchor tag and extract the username\n",
    "for a_tag in soup.find_all('a', href=True):\n",
    "    if 'instagram.com' in a_tag['href']:\n",
    "        username = a_tag.get_text()\n",
    "        usernames_following.append(username)\n",
    "\n",
    "# Output the list of usernames\n",
    "for username in usernames_following[:5]:\n",
    "    print(username)\n"
   ]
  },
  {
   "cell_type": "code",
   "execution_count": 6,
   "metadata": {},
   "outputs": [
    {
     "name": "stdout",
     "output_type": "stream",
     "text": [
      "Followers: 272\n",
      "Following: 319\n",
      "Mutual: 245\n",
      "Not Following Back: 27\n",
      "Followers Not Followed Back: 74\n"
     ]
    }
   ],
   "source": [
    "print('Followers:', len(usernames))\n",
    "print('Following:', len(usernames_following))\n",
    "print('Mutual:', len(set(usernames) & set(usernames_following)))\n",
    "print('Not Following Back:', len(set(usernames) - set(usernames_following)))\n",
    "print('Followers Not Followed Back:', len(set(usernames_following) - set(usernames)))\n"
   ]
  }
 ],
 "metadata": {
  "kernelspec": {
   "display_name": "Python 3",
   "language": "python",
   "name": "python3"
  },
  "language_info": {
   "codemirror_mode": {
    "name": "ipython",
    "version": 3
   },
   "file_extension": ".py",
   "mimetype": "text/x-python",
   "name": "python",
   "nbconvert_exporter": "python",
   "pygments_lexer": "ipython3",
   "version": "3.9.6"
  }
 },
 "nbformat": 4,
 "nbformat_minor": 2
}
